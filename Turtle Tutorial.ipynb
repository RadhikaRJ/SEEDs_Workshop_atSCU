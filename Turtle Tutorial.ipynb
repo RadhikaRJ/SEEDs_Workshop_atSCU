{
 "cells": [
  {
   "cell_type": "markdown",
   "id": "20371c64",
   "metadata": {},
   "source": [
    "# Turtle Tutorial in Python Jupyter Notebook\n"
   ]
  },
  {
   "cell_type": "markdown",
   "id": "830e6e14",
   "metadata": {},
   "source": [
    " ## Some Cool Graphics! "
   ]
  },
  {
   "cell_type": "markdown",
   "id": "0788b927",
   "metadata": {},
   "source": [
    "## Rainbow Benzene"
   ]
  },
  {
   "cell_type": "code",
   "execution_count": null,
   "id": "550b5219",
   "metadata": {},
   "outputs": [],
   "source": [
    "# Python program to draw\n",
    "# Rainbow Benzene\n",
    "# using Turtle Programming\n",
    "import turtle\n",
    "colors = ['red', 'purple', 'blue', 'green', 'orange', 'yellow']\n",
    "t = turtle.Pen()\n",
    "turtle.bgcolor('black')\n",
    "for x in range(360):\n",
    "\tt.pencolor(colors[x%6])\n",
    "\tt.width(x//100 + 1)\n",
    "\tt.forward(x)\n",
    "\tt.left(59)\n"
   ]
  },
  {
   "cell_type": "code",
   "execution_count": null,
   "id": "9840915b",
   "metadata": {},
   "outputs": [],
   "source": [
    " turtle.clearscreen()"
   ]
  },
  {
   "cell_type": "markdown",
   "id": "2ba90690",
   "metadata": {},
   "source": [
    "## Sunrise Animation"
   ]
  },
  {
   "cell_type": "code",
   "execution_count": null,
   "id": "f44f554b",
   "metadata": {},
   "outputs": [],
   "source": [
    "# sunrise.py\n",
    "\n",
    "import random\n",
    "import turtle\n",
    "\n",
    "from collections import namedtuple\n",
    "\n",
    "number_of_steps = 500\n",
    "number_of_stars = 200\n",
    "sun_size = 150\n",
    "width = 1200\n",
    "height = 800\n",
    "\n",
    "# Create Named Tuple Classes\n",
    "RangeLimits = namedtuple(\"RangeLimits\", \"start, end\")\n",
    "Colour = namedtuple(\"Colour\", \"red, green, blue\")\n",
    "\n",
    "sky_colour = RangeLimits(\n",
    "    Colour(0 / 255, 0 / 255, 0 / 255),\n",
    "    Colour(0 / 255, 191 / 255, 255 / 255),\n",
    ")\n",
    "petal_colour = RangeLimits(\n",
    "    Colour(50 / 255, 50 / 255, 50 / 255),\n",
    "    Colour(138 / 255, 43 / 255, 226 / 255),\n",
    ")\n",
    "flower_centre_colour = RangeLimits(\n",
    "    Colour(30 / 255, 30 / 255, 30 / 255),\n",
    "    Colour(255 / 255, 165 / 255, 0 / 255),\n",
    ")\n",
    "stem_colour = RangeLimits(\n",
    "    Colour(15 / 255, 15 / 255, 15 / 255),\n",
    "    Colour(34 / 255, 139 / 255, 34 / 255),\n",
    ")\n",
    "star_colour = RangeLimits(\n",
    "    Colour(1, 1, 1),\n",
    "    sky_colour.end,\n",
    ")\n",
    "sun_colour = RangeLimits(\n",
    "    Colour(10 / 255, 10 / 255, 10 / 255),\n",
    "    Colour(249 / 255, 215 / 255, 28 / 255),\n",
    ")\n",
    "\n",
    "sun_x_coordinate = -width / 3\n",
    "sun_y_position = RangeLimits(\n",
    "    -height / 2 - sun_size / 2,\n",
    "    height / 2 - height / 8,\n",
    ")\n",
    "\n",
    "def calculate_colour_change(\n",
    "    start: Colour,\n",
    "    end: Colour,\n",
    "    n_steps: int,\n",
    "):\n",
    "    red_step = (end.red - start.red) / n_steps\n",
    "    green_step = (end.green - start.green) / n_steps\n",
    "    blue_step = (end.blue - start.blue) / n_steps\n",
    "\n",
    "    return Colour(red_step, green_step, blue_step)\n",
    "\n",
    "def calculate_movement_change(start, end, n_steps):\n",
    "    return (end - start) / n_steps\n",
    "\n",
    "# Set up the window for the animation\n",
    "# Sky\n",
    "sky = turtle.Screen()\n",
    "sky.setup(width, height)\n",
    "sky.tracer(0)\n",
    "sky.title(\"Good morning…\")\n",
    "sky.bgcolor(sky_colour.start)\n",
    "\n",
    "# Flower and Stem\n",
    "flower = turtle.Turtle()\n",
    "flower.hideturtle()\n",
    "stem = turtle.Turtle()\n",
    "stem.hideturtle()\n",
    "stem.right(90)\n",
    "stem.pensize(10)\n",
    "\n",
    "def draw_flower(petal_col, flower_centre_col, stem_col):\n",
    "    stem.clear()\n",
    "    stem.color(stem_col)\n",
    "    stem.forward(height / 2)\n",
    "    stem.forward(-height / 2)\n",
    "\n",
    "    flower.clear()\n",
    "    flower.color(petal_col)\n",
    "    # Draw petals\n",
    "    for _ in range(6):\n",
    "        flower.forward(100)\n",
    "        flower.dot(75)\n",
    "        flower.forward(-100)\n",
    "        flower.left(360 / 6)\n",
    "    # Draw centre of flower\n",
    "    flower.color(flower_centre_col)\n",
    "    flower.dot(175)\n",
    "\n",
    "# Draw the initial flower using the starting colours\n",
    "draw_flower(\n",
    "    petal_colour.start,\n",
    "    flower_centre_colour.start,\n",
    "    stem_colour.start,\n",
    ")\n",
    "\n",
    "# Stars\n",
    "stars = turtle.Turtle()\n",
    "stars.hideturtle()\n",
    "stars.penup()\n",
    "\n",
    "# Generate pairs of coordinates for the star positions\n",
    "star_positions = tuple(\n",
    "    (\n",
    "        random.randint(-width // 2, width // 2),\n",
    "        random.randint(-width // 2, width // 2),\n",
    "    )\n",
    "    for _ in range(number_of_stars)\n",
    ")\n",
    "# …and size for the stars\n",
    "star_sizes = tuple(\n",
    "    random.randint(2, 8) for _ in range(number_of_stars)\n",
    ")\n",
    "\n",
    "def draw_stars(colour):\n",
    "    stars.clear()\n",
    "    stars.color(colour)\n",
    "    for position, size in zip(star_positions, star_sizes):\n",
    "        stars.setposition(position)\n",
    "        stars.dot(size)\n",
    "\n",
    "# Draw the initial stars using the starting colour\n",
    "draw_stars(star_colour.start)\n",
    "\n",
    "# Sun\n",
    "sun = turtle.Turtle()\n",
    "sun.hideturtle()\n",
    "sun.setposition(sun_x_coordinate, sun_y_position.start)\n",
    "\n",
    "def draw_sun(sun_col, sun_height):\n",
    "    sun.clear()\n",
    "    sun.color(sun_col)\n",
    "    sun.sety(sun_height)\n",
    "    sun.dot(sun_size)\n",
    "\n",
    "draw_sun(sun_colour.start, sun_y_position.start)\n",
    "\n",
    "####\n",
    "# Calculate step sizes needed for colour changes\n",
    "sky_colour_steps = calculate_colour_change(\n",
    "    sky_colour.start, sky_colour.end, number_of_steps\n",
    ")\n",
    "petal_colour_steps = calculate_colour_change(\n",
    "    petal_colour.start, petal_colour.end, number_of_steps\n",
    ")\n",
    "flower_centre_colour_steps = calculate_colour_change(\n",
    "    flower_centre_colour.start,\n",
    "    flower_centre_colour.end,\n",
    "    number_of_steps,\n",
    ")\n",
    "stem_colour_steps = calculate_colour_change(\n",
    "    stem_colour.start, stem_colour.end, number_of_steps\n",
    ")\n",
    "star_colour_steps = calculate_colour_change(\n",
    "    star_colour.start, star_colour.end, number_of_steps\n",
    ")\n",
    "sun_colour_steps = calculate_colour_change(\n",
    "    sun_colour.start, sun_colour.end, number_of_steps\n",
    ")\n",
    "\n",
    "sun_movement_steps = calculate_movement_change(\n",
    "    sun_y_position.start, sun_y_position.end, number_of_steps\n",
    ")\n",
    "\n",
    "####\n",
    "# Start animation\n",
    "current_sky_colour = sky_colour.start._asdict()\n",
    "current_petal_colour = petal_colour.start._asdict()\n",
    "current_flower_centre_colour = flower_centre_colour.start._asdict()\n",
    "current_stem_colour = stem_colour.start._asdict()\n",
    "current_star_colour = star_colour.start._asdict()\n",
    "current_sun_colour = sun_colour.start._asdict()\n",
    "\n",
    "current_sun_y_position = sun_y_position.start\n",
    "\n",
    "for _ in range(number_of_steps):\n",
    "    # Sky\n",
    "    current_sky_colour[\"red\"] += sky_colour_steps.red\n",
    "    current_sky_colour[\"green\"] += sky_colour_steps.green\n",
    "    current_sky_colour[\"blue\"] += sky_colour_steps.blue\n",
    "    # Change the background to use the new colour\n",
    "    sky.bgcolor(current_sky_colour.values())\n",
    "\n",
    "    # Stars\n",
    "    current_star_colour[\"red\"] += star_colour_steps.red\n",
    "    current_star_colour[\"green\"] += star_colour_steps.green\n",
    "    current_star_colour[\"blue\"] + star_colour_steps.blue\n",
    "\n",
    "    draw_stars(current_star_colour.values())\n",
    "\n",
    "    # Flower and Stem\n",
    "    current_petal_colour[\"red\"] += petal_colour_steps.red\n",
    "    current_petal_colour[\"green\"] += petal_colour_steps.green\n",
    "    current_petal_colour[\"blue\"] += petal_colour_steps.blue\n",
    "\n",
    "    current_flower_centre_colour[\"red\"] += flower_centre_colour_steps.red\n",
    "    current_flower_centre_colour[\"green\"] += flower_centre_colour_steps.green\n",
    "    current_flower_centre_colour[\"blue\"] += flower_centre_colour_steps.blue\n",
    "\n",
    "    current_stem_colour[\"red\"] += stem_colour_steps.red\n",
    "    current_stem_colour[\"green\"] += stem_colour_steps.green\n",
    "    current_stem_colour[\"blue\"] += stem_colour_steps.blue\n",
    "\n",
    "    # Draw the flower again with the new colours\n",
    "    draw_flower(\n",
    "        current_petal_colour.values(),\n",
    "        current_flower_centre_colour.values(),\n",
    "        current_stem_colour.values(),\n",
    "    )\n",
    "\n",
    "    # Sun\n",
    "    current_sun_colour[\"red\"] += sun_colour_steps.red\n",
    "    current_sun_colour[\"green\"] += sun_colour_steps.green\n",
    "    current_sun_colour[\"blue\"] += sun_colour_steps.blue\n",
    "    current_sun_y_position += sun_movement_steps\n",
    "\n",
    "    draw_sun(current_sun_colour.values(), current_sun_y_position)\n",
    "\n",
    "    sky.update()\n",
    "\n",
    "turtle.done()"
   ]
  },
  {
   "cell_type": "code",
   "execution_count": null,
   "id": "a3f47758",
   "metadata": {},
   "outputs": [],
   "source": [
    "turtle.reset()\n",
    "turtle.clear()\n",
    "turtle.clearscreen()"
   ]
  },
  {
   "cell_type": "markdown",
   "id": "be3cbff1",
   "metadata": {},
   "source": [
    "## Multi-colored flower"
   ]
  },
  {
   "cell_type": "code",
   "execution_count": null,
   "id": "1a7aa522",
   "metadata": {},
   "outputs": [],
   "source": [
    "trtl=turtle.Turtle()\n",
    "screen=turtle.Screen()\n",
    "screen.setup(620,620)\n",
    "screen.bgcolor('black')\n",
    "trtl.pensize(3)\n",
    "trtl.speed(10)\n",
    "n=-1\n",
    "for angle in range(0,360,15):\n",
    "    n=n+1\n",
    "    if n==5:\n",
    "        n=-1\n",
    "    trtl.color(colors[n])\n",
    "    trtl.seth(angle)\n",
    "    trtl.circle(100)\n",
    "trtl.penup()\n",
    "trtl.setpos(150,-270)\n",
    "trtl.pendown()\n",
    "trtl.pencolor('olive')\n",
    "trtl.write('Vivax Solutions',font=(\"Arial\", 12, \"normal\"))\n",
    "trtl.ht()"
   ]
  },
  {
   "cell_type": "code",
   "execution_count": null,
   "id": "985dd048",
   "metadata": {},
   "outputs": [],
   "source": [
    "\n",
    "turtle.clearscreen()"
   ]
  },
  {
   "cell_type": "markdown",
   "id": "dd8389f0",
   "metadata": {},
   "source": [
    "Import the tutle module in Python:"
   ]
  },
  {
   "cell_type": "code",
   "execution_count": null,
   "id": "2185d92a",
   "metadata": {},
   "outputs": [],
   "source": [
    "import turtle"
   ]
  },
  {
   "cell_type": "markdown",
   "id": "78719879",
   "metadata": {},
   "source": [
    "## Shapes\n",
    "The turtle.shapes command sets the turtle shape to one of these shapes: “arrow”, “turtle”, “circle”, “square”, “triangle”, and “classic”."
   ]
  },
  {
   "cell_type": "code",
   "execution_count": null,
   "id": "92b18b3f",
   "metadata": {},
   "outputs": [],
   "source": [
    "turtle.shape(\"turtle\")"
   ]
  },
  {
   "cell_type": "code",
   "execution_count": null,
   "id": "94d54e5d",
   "metadata": {},
   "outputs": [],
   "source": [
    " turtle.clearscreen()"
   ]
  },
  {
   "cell_type": "markdown",
   "id": "4d9ceb43",
   "metadata": {},
   "source": [
    "## Displaying Text in the Graphics Window"
   ]
  },
  {
   "cell_type": "code",
   "execution_count": null,
   "id": "f1257ae0",
   "metadata": {},
   "outputs": [],
   "source": [
    "turtle.write(\"Hello, World!\")"
   ]
  },
  {
   "cell_type": "code",
   "execution_count": null,
   "id": "8a59a08c",
   "metadata": {},
   "outputs": [],
   "source": [
    " turtle.clearscreen()"
   ]
  },
  {
   "cell_type": "markdown",
   "id": "a793f76b",
   "metadata": {},
   "source": [
    "## Resetting the Screen\n",
    "The **turtle.reset()** command erases all drawings that currently appear in the graphics window, resets the drawing color to black and resets the turtle to its original position at the center of the screen.<br>\n",
    "The **turtle.clear()** command erases all drawings that currently appear in the graphics window.<br>\n",
    "The **turtle.clearscreen()** command erases all drawings that currently appear in the graphics window.<br>"
   ]
  },
  {
   "cell_type": "markdown",
   "id": "9489395a",
   "metadata": {},
   "source": [
    "We need to have a screen wherein we can design and implement our animations. This can be done by using a variable that stores a turtle function named getscreen()"
   ]
  },
  {
   "cell_type": "code",
   "execution_count": null,
   "id": "de78fd3e",
   "metadata": {},
   "outputs": [],
   "source": [
    "sc = turtle.getscreen()\n"
   ]
  },
  {
   "cell_type": "markdown",
   "id": "90763127",
   "metadata": {},
   "source": [
    "We will declare a variable that will store the turtle and we will use this variable throughout the program to access functions, methods etc that are in the turtle library.\n"
   ]
  },
  {
   "cell_type": "code",
   "execution_count": null,
   "id": "13cdea1d",
   "metadata": {},
   "outputs": [],
   "source": [
    "tp = turtle.Turtle()"
   ]
  },
  {
   "cell_type": "markdown",
   "id": "ae3432e7",
   "metadata": {},
   "source": [
    "Designing without moving the turtle is simply not possible and so in order to move the turtle we need a way to get that done and so there are predefined functions that ship with the turtle library.\n",
    "\n",
    "**forward()**: This function provides the accessibility to move the turtle in the forward direction.\n",
    "<br>\n",
    "**backward()**: This function helps the users to move the turtle in the backward direction.\n",
    "<br>\n",
    "**left()**: This moves the turtle in the left direction.\n",
    "<br>\n",
    "**right()**: This function moves the turtle in the right direction.\n",
    "<br>\n",
    "\n",
    "There are amazing shorthands also available for the above functions. They are fd for forward, bk for backward, rt for right and lt for left."
   ]
  },
  {
   "cell_type": "markdown",
   "id": "9351db3b",
   "metadata": {},
   "source": [
    "## (A) Drawing a Square:\n"
   ]
  },
  {
   "cell_type": "code",
   "execution_count": null,
   "id": "0d83ca0d",
   "metadata": {},
   "outputs": [],
   "source": [
    "import turtle\n",
    "sc = turtle.getscreen()\n",
    "tp = turtle.Turtle()\n",
    "tp.fd(100)\n",
    "tp.rt(90)\n",
    "tp.fd(100)\n",
    "tp.rt(90)\n",
    "tp.fd(100)\n",
    "tp.rt(90)\n",
    "tp.fd(100)"
   ]
  },
  {
   "cell_type": "code",
   "execution_count": null,
   "id": "f767e34f",
   "metadata": {},
   "outputs": [],
   "source": [
    " turtle.clearscreen()"
   ]
  },
  {
   "cell_type": "markdown",
   "id": "6197d5f2",
   "metadata": {},
   "source": [
    "## (B) Drawing a Rectangle:"
   ]
  },
  {
   "cell_type": "code",
   "execution_count": null,
   "id": "a70d62d2",
   "metadata": {},
   "outputs": [],
   "source": [
    "import turtle\n",
    "sc = turtle.getscreen()\n",
    "tp = turtle.Turtle()\n",
    "tp.fd(300)\n",
    "tp.rt(90)\n",
    "tp.fd(150)\n",
    "tp.rt(90)\n",
    "tp.fd(300)\n",
    "tp.rt(90)\n",
    "tp.fd(150)\n",
    "tp.rt(90)"
   ]
  },
  {
   "cell_type": "code",
   "execution_count": null,
   "id": "66bf9cc3",
   "metadata": {},
   "outputs": [],
   "source": [
    " turtle.clearscreen()"
   ]
  },
  {
   "cell_type": "markdown",
   "id": "345f1d77",
   "metadata": {},
   "source": [
    "## (C) Drawing a Triangle:"
   ]
  },
  {
   "cell_type": "code",
   "execution_count": null,
   "id": "9ca0b24c",
   "metadata": {},
   "outputs": [],
   "source": [
    "import turtle\n",
    "sc = turtle.getscreen()\n",
    "tp = turtle.Turtle()\n",
    "tp.fd(100)\n",
    "tp.lt(120)\n",
    "tp.fd(100)\n",
    "tp.lt(120)\n",
    "tp.fd(100)"
   ]
  },
  {
   "cell_type": "code",
   "execution_count": null,
   "id": "4209ffc6",
   "metadata": {},
   "outputs": [],
   "source": [
    " turtle.clearscreen()"
   ]
  },
  {
   "cell_type": "markdown",
   "id": "df02c055",
   "metadata": {},
   "source": [
    "## (D) Drawing a Circle:"
   ]
  },
  {
   "cell_type": "markdown",
   "id": "34bc37e0",
   "metadata": {},
   "source": [
    "## Intermediate Level "
   ]
  },
  {
   "cell_type": "code",
   "execution_count": null,
   "id": "2e2a3653",
   "metadata": {},
   "outputs": [],
   "source": [
    "import turtle\n",
    "tp = turtle.Turtle()\n",
    "tp.circle(80)"
   ]
  },
  {
   "cell_type": "code",
   "execution_count": null,
   "id": "a6aba909",
   "metadata": {},
   "outputs": [],
   "source": [
    " turtle.clearscreen()"
   ]
  },
  {
   "cell_type": "markdown",
   "id": "d47d183a",
   "metadata": {},
   "source": [
    "## For custom designs, we can use various built-in turtle library functions such as: color(), fillcolor(), pensize(), pencolor(), speed() "
   ]
  },
  {
   "cell_type": "markdown",
   "id": "12234259",
   "metadata": {},
   "source": [
    "**pencolor()**: This method helps the user in changing the colour of the pen. It takes in the arguments in the form of colour strings or in RGB colour codes. The default colour of the ink is black and so if no arguments are passed, the ink colour will be black.\n",
    "So here, we used pencolor(“purple”). This will set the colour of the ink to purple.<br>\n",
    "**fillcolor()**: As the name itself suggests, this method is used to fill the colour in the design. Here as we have passed the argument “orange” to the fillcolor method, it will fill the interior of the shape with orange colour.<br>\n",
    "**pensize()**: This method helps us to set the width of the pen. It takes the arguments in the form of width.\n",
    "We have passed “5” to this function and hence the width of the pen or outline will be 5 units.<br>\n",
    "**speed()**: This simply decides how fast or slow the turtle will move based on the arguments passed. The speed lies in between the range of 1-10.\n",
    "1 is considered to be the slowest, 6 as the normal speed and 10 as the fastest.<br>\n",
    "**begin_fill()**: Whenever there’s a need to fill any shape, this method should be called before the shape. No arguments are accepted.<br>\n",
    "**bgcolor()**: This helps in changing the background colour. Here we have passed blue colour<br>\n",
    "**end_fill()**: Used to actually fill the shape."
   ]
  },
  {
   "cell_type": "markdown",
   "id": "42be49ef",
   "metadata": {},
   "source": [
    "## (B) Circles inside a circle:"
   ]
  },
  {
   "cell_type": "code",
   "execution_count": 19,
   "id": "71e5e771",
   "metadata": {},
   "outputs": [],
   "source": [
    "import turtle\n",
    "tp = turtle.Turtle()\n",
    "tp.pencolor(\"purple\")\n",
    "tp.fillcolor(\"orange\")\n",
    "tp.pensize(8)\n",
    "tp.speed(5)\n",
    "tp.begin_fill()\n",
    "tp.circle(110)\n",
    "turtle.bgcolor(\"blue\")  \n",
    "tp.end_fill()"
   ]
  },
  {
   "cell_type": "code",
   "execution_count": 20,
   "id": "c610ec07",
   "metadata": {},
   "outputs": [],
   "source": [
    " turtle.clearscreen()"
   ]
  },
  {
   "cell_type": "code",
   "execution_count": null,
   "id": "bf50a3c0",
   "metadata": {},
   "outputs": [],
   "source": [
    "tp.pensize(5)\n",
    "\n",
    "for i in range(5,25):\n",
    "    tp.circle(i*10)\n",
    "    \n",
    "    "
   ]
  },
  {
   "cell_type": "code",
   "execution_count": null,
   "id": "02b81c79",
   "metadata": {},
   "outputs": [],
   "source": [
    " turtle.clearscreen()"
   ]
  },
  {
   "cell_type": "markdown",
   "id": "af0a18df",
   "metadata": {},
   "source": [
    "## (C) Drawing a multi-coloured star:"
   ]
  },
  {
   "cell_type": "code",
   "execution_count": null,
   "id": "b3905921",
   "metadata": {},
   "outputs": [],
   "source": [
    "import turtle\n",
    "import time\n",
    "screen=turtle.Screen()\n",
    "tp=turtle.Turtle()\n",
    "screen.setup(420,320)\n",
    "screen.bgcolor('black')\n",
    "colour_set=['red','green','blue','yellow','purple']\n",
    "tp.pensize(4)\n",
    "tp.penup()\n",
    "tp.setpos(-90,30)\n",
    "tp.pendown()\n",
    "for i in range(5):\n",
    "     tp.pencolor(colour_set[i])\n",
    "     tp.forward(200)\n",
    "     tp.right(144)\n",
    "tp.penup()\n",
    "tp.setpos(80,-140)\n",
    "tp.pendown()\n",
    "tp.ht()"
   ]
  },
  {
   "cell_type": "code",
   "execution_count": null,
   "id": "eb120bdf",
   "metadata": {},
   "outputs": [],
   "source": [
    " turtle.clearscreen()"
   ]
  },
  {
   "cell_type": "markdown",
   "id": "46c3fcf9",
   "metadata": {},
   "source": [
    "# Challenge! Fix the code to get the shapes below"
   ]
  },
  {
   "cell_type": "markdown",
   "id": "3d62fade",
   "metadata": {},
   "source": [
    "## Challenge 1: Draw triangle, square, pentagon, hexagon"
   ]
  },
  {
   "cell_type": "code",
   "execution_count": null,
   "id": "941ba51b",
   "metadata": {},
   "outputs": [],
   "source": [
    "# Python program to draw triangle, square, pentagon, hexagon\n",
    "# using Turtle Programming\n",
    "import turtle\n",
    "\n",
    "polygon = turtle.Turtle()\n",
    "\n",
    "num_sides = 2  ## draw triangle, square, pentagon, hexagon\n",
    "side_length = 70\n",
    "angle = 360.0 / num_sides\n",
    "\n",
    "for i in range(num_sides):\n",
    "  polygon.forward(side_length)\n",
    "  polygon.right(angle)\n",
    "\n",
    "turtle.done()"
   ]
  },
  {
   "cell_type": "code",
   "execution_count": null,
   "id": "cd68d329",
   "metadata": {},
   "outputs": [],
   "source": [
    " turtle.clearscreen()"
   ]
  },
  {
   "cell_type": "markdown",
   "id": "567aa3fd",
   "metadata": {},
   "source": [
    "## Challenge 2: Draw a star"
   ]
  },
  {
   "cell_type": "code",
   "execution_count": null,
   "id": "71801e8b",
   "metadata": {},
   "outputs": [],
   "source": [
    "# Python program to draw star\n",
    "# using Turtle Programming\n",
    "import turtle\n",
    "\n",
    "star = turtle.Turtle()\n",
    "\n",
    "star.right(45)\n",
    "star.forward(100)\n",
    "\n",
    "for i in range(2):  #incomplete star, complete the star\n",
    "  star.right(144)\n",
    "  star.forward(100)\n",
    "\n",
    "turtle.done()"
   ]
  },
  {
   "cell_type": "code",
   "execution_count": null,
   "id": "21287e4a",
   "metadata": {},
   "outputs": [],
   "source": [
    " turtle.clearscreen()"
   ]
  },
  {
   "cell_type": "markdown",
   "id": "8947e26e",
   "metadata": {},
   "source": [
    "## Challenge 3: Draw Parallelogram"
   ]
  },
  {
   "cell_type": "code",
   "execution_count": null,
   "id": "12644d76",
   "metadata": {},
   "outputs": [],
   "source": [
    "import turtle\n",
    "\n",
    "# Initialize the turtle\n",
    "t = turtle.Turtle()\n",
    "\n",
    "# Set the turtle's speed\n",
    "t.speed(1)\n",
    "\n",
    "# Draw the parallelogram\n",
    "for i in range(1):  # complete the parallelogram\n",
    "  t.forward(100)\n",
    "  t.left(60)\n",
    "  t.forward(50)\n",
    "  t.left(120)\n"
   ]
  },
  {
   "cell_type": "code",
   "execution_count": null,
   "id": "ae51f65a",
   "metadata": {},
   "outputs": [],
   "source": [
    " turtle.clearscreen()"
   ]
  },
  {
   "cell_type": "markdown",
   "id": "697c89a0",
   "metadata": {},
   "source": [
    "## 100 Squares Challenge"
   ]
  },
  {
   "cell_type": "code",
   "execution_count": null,
   "id": "8061bc28",
   "metadata": {},
   "outputs": [],
   "source": [
    "#draws a turtle\n",
    "import turtle\n",
    "turtle.showturtle()\n",
    "turtle.shape(\"turtle\")\n",
    "for x in range(100):\n",
    "    turtle.forward(x)\n",
    "    turtle.left(91)\n",
    "input()"
   ]
  },
  {
   "cell_type": "code",
   "execution_count": null,
   "id": "e8ecfc98",
   "metadata": {},
   "outputs": [],
   "source": [
    " turtle.clearscreen()"
   ]
  },
  {
   "cell_type": "markdown",
   "id": "f1725371",
   "metadata": {},
   "source": [
    "## Can you draw a heart shape?"
   ]
  },
  {
   "cell_type": "code",
   "execution_count": null,
   "id": "26dcf1f1",
   "metadata": {},
   "outputs": [],
   "source": [
    "# Import turtle package\n",
    "import turtle\n",
    "\n",
    "# Creating a turtle object(pen)\n",
    "pen = turtle.Turtle()\n",
    "\n",
    "# Defining a method to draw curve\n",
    "def curve():\n",
    "\tfor i in range(200):\n",
    "\n",
    "\t\t# Defining step by step curve motion\n",
    "\t\tpen.right(1)\n",
    "\t\tpen.forward(1)\n",
    "\n",
    "# Defining method to draw a full heart\n",
    "def heart():\n",
    "\n",
    "\t# Set the fill color to red\n",
    "\tpen.fillcolor('red')\n",
    "\n",
    "\t# Start filling the color\n",
    "\tpen.begin_fill()\n",
    "\n",
    "\t# Draw the left line\n",
    "\tpen.left(140)\n",
    "\tpen.forward(113)\n",
    "\n",
    "\t# Draw the left curve\n",
    "\tcurve()\n",
    "\tpen.left(120)\n",
    "\n",
    "\t# Draw the right curve\n",
    "\tcurve()\n",
    "\n",
    "\t# Draw the right line\n",
    "\tpen.forward(112)\n",
    "\n",
    "\t# Ending the filling of the color\n",
    "\tpen.end_fill()\n",
    "\n",
    "# Defining method to write text\n",
    "def txt():\n",
    "\n",
    "\t# Move turtle to air\n",
    "\tpen.up()\n",
    "\n",
    "\t# Move turtle to a given position\n",
    "\tpen.setpos(-68, 95)\n",
    "\n",
    "\t# Move the turtle to the ground\n",
    "\tpen.down()\n",
    "\n",
    "\t# Set the text color to lightgreen\n",
    "\tpen.color('lightgreen')\n",
    "\n",
    "\t# Write the specified text in\n",
    "\t# specified font style and size\n",
    "\tpen.write(\"SEEDs Workshop!\", font=(\n",
    "\t\"Verdana\", 12, \"bold\"))\n",
    "\n",
    "\n",
    "# Draw a heart\n",
    "heart()\n",
    "\n",
    "# Write text\n",
    "txt()\n",
    "\n",
    "# To hide turtle\n",
    "pen.ht()\n",
    "input()\n"
   ]
  },
  {
   "cell_type": "code",
   "execution_count": null,
   "id": "6c0cad9e",
   "metadata": {},
   "outputs": [],
   "source": [
    " turtle.clearscreen()"
   ]
  },
  {
   "cell_type": "code",
   "execution_count": null,
   "id": "c33594bc",
   "metadata": {},
   "outputs": [],
   "source": []
  }
 ],
 "metadata": {
  "kernelspec": {
   "display_name": "Python 3 (ipykernel)",
   "language": "python",
   "name": "python3"
  },
  "language_info": {
   "codemirror_mode": {
    "name": "ipython",
    "version": 3
   },
   "file_extension": ".py",
   "mimetype": "text/x-python",
   "name": "python",
   "nbconvert_exporter": "python",
   "pygments_lexer": "ipython3",
   "version": "3.9.13"
  }
 },
 "nbformat": 4,
 "nbformat_minor": 5
}
