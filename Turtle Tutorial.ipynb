{
 "cells": [
  {
   "cell_type": "markdown",
   "id": "20371c64",
   "metadata": {},
   "source": [
    "# Turtle Tutorial in Python Jupyter Notebook\n"
   ]
  },
  {
   "cell_type": "markdown",
   "id": "dd8389f0",
   "metadata": {},
   "source": [
    "Import the tutle module in Python:"
   ]
  },
  {
   "cell_type": "code",
   "execution_count": 1,
   "id": "2185d92a",
   "metadata": {},
   "outputs": [],
   "source": [
    "import turtle"
   ]
  },
  {
   "cell_type": "markdown",
   "id": "78719879",
   "metadata": {},
   "source": [
    "## Shapes\n",
    "The turtle.shapes command sets the turtle shape to one of these shapes: “arrow”, “turtle”, “circle”, “square”, “triangle”, and “classic”."
   ]
  },
  {
   "cell_type": "code",
   "execution_count": 2,
   "id": "92b18b3f",
   "metadata": {},
   "outputs": [],
   "source": [
    "turtle.shape(\"turtle\")"
   ]
  },
  {
   "cell_type": "code",
   "execution_count": 3,
   "id": "94d54e5d",
   "metadata": {},
   "outputs": [],
   "source": [
    " turtle.clearscreen()"
   ]
  },
  {
   "cell_type": "markdown",
   "id": "4d9ceb43",
   "metadata": {},
   "source": [
    "## Displaying Text in the Graphics Window"
   ]
  },
  {
   "cell_type": "code",
   "execution_count": 4,
   "id": "f1257ae0",
   "metadata": {},
   "outputs": [],
   "source": [
    "turtle.write(\"Hello, World!\")"
   ]
  },
  {
   "cell_type": "code",
   "execution_count": 5,
   "id": "8a59a08c",
   "metadata": {},
   "outputs": [],
   "source": [
    " turtle.clearscreen()"
   ]
  },
  {
   "cell_type": "markdown",
   "id": "a793f76b",
   "metadata": {},
   "source": [
    "## Resetting the Screen\n",
    "The **turtle.reset()** command erases all drawings that currently appear in the graphics window, resets the drawing color to black and resets the turtle to its original position at the center of the screen.<br>\n",
    "The **turtle.clear()** command erases all drawings that currently appear in the graphics window.<br>\n",
    "The **turtle.clearscreen()** command erases all drawings that currently appear in the graphics window.<br>"
   ]
  },
  {
   "cell_type": "markdown",
   "id": "9489395a",
   "metadata": {},
   "source": [
    "We need to have a screen wherein we can design and implement our animations. This can be done by using a variable that stores a turtle function named getscreen()"
   ]
  },
  {
   "cell_type": "code",
   "execution_count": 6,
   "id": "de78fd3e",
   "metadata": {},
   "outputs": [],
   "source": [
    "sc = turtle.getscreen()\n"
   ]
  },
  {
   "cell_type": "markdown",
   "id": "90763127",
   "metadata": {},
   "source": [
    "We will declare a variable that will store the turtle and we will use this variable throughout the program to access functions, methods etc that are in the turtle library.\n"
   ]
  },
  {
   "cell_type": "code",
   "execution_count": 7,
   "id": "13cdea1d",
   "metadata": {},
   "outputs": [],
   "source": [
    "tp = turtle.Turtle()"
   ]
  },
  {
   "cell_type": "markdown",
   "id": "ae3432e7",
   "metadata": {},
   "source": [
    "Designing without moving the turtle is simply not possible and so in order to move the turtle we need a way to get that done and so there are predefined functions that ship with the turtle library.\n",
    "\n",
    "**forward()**: This function provides the accessibility to move the turtle in the forward direction.\n",
    "<br>\n",
    "**backward()**: This function helps the users to move the turtle in the backward direction.\n",
    "<br>\n",
    "**left()**: This moves the turtle in the left direction.\n",
    "<br>\n",
    "**right()**: This function moves the turtle in the right direction.\n",
    "<br>\n",
    "\n",
    "There are amazing shorthands also available for the above functions. They are fd for forward, bk for backward, rt for right and lt for left."
   ]
  },
  {
   "cell_type": "markdown",
   "id": "9351db3b",
   "metadata": {},
   "source": [
    "## (A) Drawing a Square:\n"
   ]
  },
  {
   "cell_type": "code",
   "execution_count": 8,
   "id": "0d83ca0d",
   "metadata": {},
   "outputs": [],
   "source": [
    "import turtle\n",
    "sc = turtle.getscreen()\n",
    "tp = turtle.Turtle()\n",
    "tp.fd(100)\n",
    "tp.rt(90)\n",
    "tp.fd(100)\n",
    "tp.rt(90)\n",
    "tp.fd(100)\n",
    "tp.rt(90)\n",
    "tp.fd(100)"
   ]
  },
  {
   "cell_type": "code",
   "execution_count": 9,
   "id": "f767e34f",
   "metadata": {},
   "outputs": [],
   "source": [
    " turtle.clearscreen()"
   ]
  },
  {
   "cell_type": "markdown",
   "id": "6197d5f2",
   "metadata": {},
   "source": [
    "## (B) Drawing a Rectangle:"
   ]
  },
  {
   "cell_type": "code",
   "execution_count": 10,
   "id": "a70d62d2",
   "metadata": {},
   "outputs": [],
   "source": [
    "import turtle\n",
    "sc = turtle.getscreen()\n",
    "tp = turtle.Turtle()\n",
    "tp.fd(300)\n",
    "tp.rt(90)\n",
    "tp.fd(150)\n",
    "tp.rt(90)\n",
    "tp.fd(300)\n",
    "tp.rt(90)\n",
    "tp.fd(150)\n",
    "tp.rt(90)"
   ]
  },
  {
   "cell_type": "code",
   "execution_count": 11,
   "id": "66bf9cc3",
   "metadata": {},
   "outputs": [],
   "source": [
    " turtle.clearscreen()"
   ]
  },
  {
   "cell_type": "markdown",
   "id": "345f1d77",
   "metadata": {},
   "source": [
    "## (C) Drawing a Triangle:"
   ]
  },
  {
   "cell_type": "code",
   "execution_count": 12,
   "id": "9ca0b24c",
   "metadata": {},
   "outputs": [],
   "source": [
    "import turtle\n",
    "sc = turtle.getscreen()\n",
    "tp = turtle.Turtle()\n",
    "tp.fd(100)\n",
    "tp.lt(120)\n",
    "tp.fd(100)\n",
    "tp.lt(120)\n",
    "tp.fd(100)"
   ]
  },
  {
   "cell_type": "code",
   "execution_count": 13,
   "id": "4209ffc6",
   "metadata": {},
   "outputs": [],
   "source": [
    " turtle.clearscreen()"
   ]
  },
  {
   "cell_type": "markdown",
   "id": "df02c055",
   "metadata": {},
   "source": [
    "## (D) Drawing a Circle:"
   ]
  },
  {
   "cell_type": "code",
   "execution_count": 14,
   "id": "2e2a3653",
   "metadata": {},
   "outputs": [],
   "source": [
    "import turtle\n",
    "tp = turtle.Turtle()\n",
    "tp.circle(50)"
   ]
  },
  {
   "cell_type": "code",
   "execution_count": 15,
   "id": "a6aba909",
   "metadata": {},
   "outputs": [],
   "source": [
    " turtle.clearscreen()"
   ]
  },
  {
   "cell_type": "markdown",
   "id": "34bc37e0",
   "metadata": {},
   "source": [
    "## Intermediate Level "
   ]
  },
  {
   "cell_type": "markdown",
   "id": "d47d183a",
   "metadata": {},
   "source": [
    "## For custom designs, we can use various built-in turtle library functions such as: color(), fillcolor(), pensize(), pencolor(), speed() "
   ]
  },
  {
   "cell_type": "markdown",
   "id": "12234259",
   "metadata": {},
   "source": [
    "**pencolor()**: This method helps the user in changing the colour of the pen. It takes in the arguments in the form of colour strings or in RGB colour codes. The default colour of the ink is black and so if no arguments are passed, the ink colour will be black.\n",
    "So here, we used pencolor(“purple”). This will set the colour of the ink to purple.<br>\n",
    "**fillcolor()**: As the name itself suggests, this method is used to fill the colour in the design. Here as we have passed the argument “orange” to the fillcolor method, it will fill the interior of the shape with orange colour.<br>\n",
    "**pensize()**: This method helps us to set the width of the pen. It takes the arguments in the form of width.\n",
    "We have passed “5” to this function and hence the width of the pen or outline will be 5 units.<br>\n",
    "**speed()**: This simply decides how fast or slow the turtle will move based on the arguments passed. The speed lies in between the range of 1-10.\n",
    "1 is considered to be the slowest, 6 as the normal speed and 10 as the fastest.<br>\n",
    "**begin_fill()**: Whenever there’s a need to fill any shape, this method should be called before the shape. No arguments are accepted.<br>\n",
    "**bgcolor()**: This helps in changing the background colour. Here we have passed blue colour<br>\n",
    "**end_fill()**: Used to actually fill the shape."
   ]
  },
  {
   "cell_type": "code",
   "execution_count": 16,
   "id": "71e5e771",
   "metadata": {},
   "outputs": [],
   "source": [
    "import turtle\n",
    "tp = turtle.Turtle()\n",
    "tp.pencolor(\"purple\")\n",
    "tp.fillcolor(\"orange\")\n",
    "tp.pensize(8)\n",
    "tp.speed(5)\n",
    "tp.begin_fill()\n",
    "tp.circle(110)\n",
    "turtle.bgcolor(\"blue\")  \n",
    "tp.end_fill()"
   ]
  },
  {
   "cell_type": "code",
   "execution_count": 17,
   "id": "c610ec07",
   "metadata": {},
   "outputs": [],
   "source": [
    " turtle.clearscreen()"
   ]
  },
  {
   "cell_type": "markdown",
   "id": "42be49ef",
   "metadata": {},
   "source": [
    "## (B) Circles inside a circle:"
   ]
  },
  {
   "cell_type": "code",
   "execution_count": 18,
   "id": "bf50a3c0",
   "metadata": {},
   "outputs": [],
   "source": [
    "i=5\n",
    "while i <= 55:\n",
    "    tp.circle(i)\n",
    "    i = i+10"
   ]
  },
  {
   "cell_type": "code",
   "execution_count": 19,
   "id": "02b81c79",
   "metadata": {},
   "outputs": [],
   "source": [
    " turtle.clearscreen()"
   ]
  },
  {
   "cell_type": "markdown",
   "id": "af0a18df",
   "metadata": {},
   "source": [
    "## (C) Drawing a multi-coloured star:"
   ]
  },
  {
   "cell_type": "code",
   "execution_count": 20,
   "id": "b3905921",
   "metadata": {},
   "outputs": [],
   "source": [
    "import turtle\n",
    "import time\n",
    "screen=turtle.Screen()\n",
    "tp=turtle.Turtle()\n",
    "screen.setup(420,320)\n",
    "screen.bgcolor('black')\n",
    "colour_set=['red','green','blue','yellow','purple']\n",
    "tp.pensize(4)\n",
    "tp.penup()\n",
    "tp.setpos(-90,30)\n",
    "tp.pendown()\n",
    "for i in range(5):\n",
    "     tp.pencolor(colour_set[i])\n",
    "     tp.forward(200)\n",
    "     tp.right(144)\n",
    "tp.penup()\n",
    "tp.setpos(80,-140)\n",
    "tp.pendown()\n",
    "tp.ht()"
   ]
  },
  {
   "cell_type": "code",
   "execution_count": 21,
   "id": "eb120bdf",
   "metadata": {},
   "outputs": [],
   "source": [
    " turtle.clearscreen()"
   ]
  },
  {
   "cell_type": "code",
   "execution_count": null,
   "id": "291ab152",
   "metadata": {},
   "outputs": [],
   "source": []
  }
 ],
 "metadata": {
  "kernelspec": {
   "display_name": "Python 3 (ipykernel)",
   "language": "python",
   "name": "python3"
  },
  "language_info": {
   "codemirror_mode": {
    "name": "ipython",
    "version": 3
   },
   "file_extension": ".py",
   "mimetype": "text/x-python",
   "name": "python",
   "nbconvert_exporter": "python",
   "pygments_lexer": "ipython3",
   "version": "3.9.13"
  }
 },
 "nbformat": 4,
 "nbformat_minor": 5
}
